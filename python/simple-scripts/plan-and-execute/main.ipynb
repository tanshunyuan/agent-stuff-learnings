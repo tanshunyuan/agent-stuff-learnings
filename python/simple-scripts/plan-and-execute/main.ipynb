{
 "cells": [
  {
   "cell_type": "code",
   "execution_count": null,
   "id": "b799ba54",
   "metadata": {},
   "outputs": [],
   "source": [
    "from langchain_tavily import TavilySearch\n",
    "from dotenv import load_dotenv\n",
    "import os\n",
    "from loguru import logger\n",
    "\n",
    "load_dotenv()\n",
    "TAVILY_API_KEY = os.getenv(\"TAVILY_API_KEY\")\n",
    "\n",
    "web_search_tool = TavilySearch(max_results=2)\n",
    "tools = [web_search_tool]"
   ]
  },
  {
   "cell_type": "code",
   "execution_count": 10,
   "id": "b926e76b",
   "metadata": {},
   "outputs": [],
   "source": [
    "from langchain import hub\n",
    "from langchain.chat_models import init_chat_model\n",
    "\n",
    "from langgraph.prebuilt import create_react_agent\n",
    "\n",
    "# Choose the LLM that will drive the agent\n",
    "llm = init_chat_model(\n",
    "    \"qwen2.5:7b\",\n",
    "    model_provider=\"ollama\",\n",
    "    temperature=0,\n",
    ")\n",
    "prompt = \"You are a helpful assistant.\"\n",
    "agent_executor = create_react_agent(llm, tools, prompt=prompt)"
   ]
  },
  {
   "cell_type": "code",
   "execution_count": 4,
   "id": "105bc748",
   "metadata": {},
   "outputs": [
    {
     "data": {
      "text/plain": [
       "{'messages': [HumanMessage(content='who is the winnner of the us open', additional_kwargs={}, response_metadata={}, id='e1aec71b-7cf2-4cca-a474-4a5b7971326d'),\n",
       "  AIMessage(content='', additional_kwargs={}, response_metadata={'model': 'qwen2.5:7b', 'created_at': '2025-06-09T05:39:26.396271Z', 'done': True, 'done_reason': 'stop', 'total_duration': 16432733208, 'load_duration': 748327875, 'prompt_eval_count': 951, 'prompt_eval_duration': 12949994000, 'eval_count': 30, 'eval_duration': 2721960042, 'model_name': 'qwen2.5:7b'}, id='run--53f2718b-850e-413c-933d-b6c684309468-0', tool_calls=[{'name': 'tavily_search', 'args': {'query': 'us open winner', 'topic': 'general'}, 'id': 'ca81c1c8-a6a2-4712-a000-1977bfef181f', 'type': 'tool_call'}], usage_metadata={'input_tokens': 951, 'output_tokens': 30, 'total_tokens': 981}),\n",
       "  ToolMessage(content='{\"query\": \"us open winner\", \"follow_up_questions\": null, \"answer\": null, \"images\": [], \"results\": [{\"title\": \"U.S. Open Winners: The Full List of Golf Champions\", \"url\": \"https://www.golfcompendium.com/2018/11/us-open-winners.html\", \"content\": \"The List of U.S. Open Winners Click on the year to view the final scores and more details from each tournament. 2024: Bryson DeChambeau, 274 2023: Wyndham Clark, 270 ... 1942-45: US Open not played due to World War II 1941: Craig Wood, 284 1940: Lawson Little, 287 (Little def. Gene Sarazen in 18-hole playoff, 70-73)\", \"score\": 0.7366474, \"raw_content\": null}, {\"title\": \"List of U.S. Open (golf) champions - Wikipedia\", \"url\": \"https://en.wikipedia.org/wiki/List_of_U.S._Open_(golf)_champions\", \"content\": \"| 1967 | United States | Jack Nicklaus | Baltusrol Golf Club | Springfield, New Jersey | 275 | −5 | | 1968 | United States | Lee Trevino | Oak Hill Country Club | Rochester, New York | 275 | −5 | | 1980 | United States | Jack Nicklaus | Baltusrol Golf Club | Springfield, New Jersey | 272 | −8 | | 1989 | United States | Curtis Strange | Oak Hill Country Club | Rochester, New York | 278 | −2 | | 1993 | United States | Lee Janzen | Baltusrol Golf Club | Springfield, New Jersey | 272 | −8 | | 2020 | United States | Bryson DeChambeau | Winged Foot Golf Club | Mamaroneck, New York | 274 | −6 |\", \"score\": 0.70214266, \"raw_content\": null}], \"response_time\": 1.93}', name='tavily_search', id='d10453b9-bbf8-4cbc-8eb3-d369f4d8c159', tool_call_id='ca81c1c8-a6a2-4712-a000-1977bfef181f'),\n",
       "  AIMessage(content='Here are some sources that provide information on the winners of the U.S. Open:\\n\\n- [U.S. Open Winners: The Full List of Golf Champions](https://www.golfcompendium.com/2018/11/us-open-winners.html)\\n- [List of U.S. Open (golf) champions - Wikipedia](https://en.wikipedia.org/wiki/List_of_U.S._Open_(golf)_champions)\\n\\nThe most recent winner is Bryson DeChambeau in 2024, and Jack Nicklaus has won the tournament multiple times.\\n\\nWould you like more specific information on a particular year or player?', additional_kwargs={}, response_metadata={'model': 'qwen2.5:7b', 'created_at': '2025-06-09T05:39:48.039246Z', 'done': True, 'done_reason': 'stop', 'total_duration': 18348380208, 'load_duration': 45368375, 'prompt_eval_count': 1491, 'prompt_eval_duration': 5463253125, 'eval_count': 134, 'eval_duration': 12809782666, 'model_name': 'qwen2.5:7b'}, id='run--ddefe55d-4ceb-42a5-be6d-0bfd046776ad-0', usage_metadata={'input_tokens': 1491, 'output_tokens': 134, 'total_tokens': 1625})]}"
      ]
     },
     "execution_count": 4,
     "metadata": {},
     "output_type": "execute_result"
    }
   ],
   "source": [
    "agent_executor.invoke({\"messages\": [(\"user\", \"who is the winnner of the us open\")]})"
   ]
  },
  {
   "cell_type": "code",
   "execution_count": 5,
   "id": "5640dadc",
   "metadata": {},
   "outputs": [],
   "source": [
    "import operator\n",
    "from typing import Annotated, List, Tuple\n",
    "from typing_extensions import TypedDict\n",
    "\n",
    "\n",
    "class PlanExecute(TypedDict):\n",
    "    input: str\n",
    "    plan: List[str]\n",
    "    past_steps: Annotated[List[Tuple], operator.add]\n",
    "    response: str"
   ]
  },
  {
   "cell_type": "code",
   "execution_count": 6,
   "id": "dca0988a",
   "metadata": {},
   "outputs": [],
   "source": [
    "from pydantic import BaseModel, Field\n",
    "\n",
    "\n",
    "class Plan(BaseModel):\n",
    "    \"\"\"Plan to follow in future\"\"\"\n",
    "\n",
    "    steps: List[str] = Field(\n",
    "        description=\"different steps to follow, should be in sorted order\"\n",
    "    )"
   ]
  },
  {
   "cell_type": "code",
   "execution_count": 7,
   "id": "1cd4aa03",
   "metadata": {},
   "outputs": [],
   "source": [
    "from langchain_core.prompts import ChatPromptTemplate\n",
    "from langchain.chat_models import init_chat_model\n",
    "\n",
    "plannerllm = init_chat_model(\n",
    "    \"qwen2.5:7b\",\n",
    "    model_provider=\"ollama\",\n",
    "    temperature=0,\n",
    ")\n",
    "\n",
    "planner_prompt = ChatPromptTemplate.from_messages(\n",
    "    [\n",
    "        (\n",
    "            \"system\",\n",
    "            \"\"\"For the given objective, come up with a simple step by step plan. \\\n",
    "This plan should involve individual tasks, that if executed correctly will yield the correct answer. Do not add any superfluous steps. \\\n",
    "The result of the final step should be the final answer. Make sure that each step has all the information needed - do not skip steps.\"\"\",\n",
    "        ),\n",
    "        (\"placeholder\", \"{messages}\"),\n",
    "    ]\n",
    ")\n",
    "planner = planner_prompt | plannerllm.with_structured_output(Plan)"
   ]
  },
  {
   "cell_type": "code",
   "execution_count": 8,
   "id": "efd30cae",
   "metadata": {},
   "outputs": [
    {
     "data": {
      "text/plain": [
       "Plan(steps=['Identify the current winner of the Australian Open.', 'Find the hometown or birthplace of the identified winner.'])"
      ]
     },
     "execution_count": 8,
     "metadata": {},
     "output_type": "execute_result"
    }
   ],
   "source": [
    "planner.invoke(\n",
    "    {\n",
    "        \"messages\": [\n",
    "            (\"user\", \"what is the hometown of the current Australia open winner?\")\n",
    "        ]\n",
    "    }\n",
    ")"
   ]
  },
  {
   "cell_type": "code",
   "execution_count": 9,
   "id": "e703a4f6",
   "metadata": {},
   "outputs": [],
   "source": [
    "from typing import Union\n",
    "\n",
    "\n",
    "class Response(BaseModel):\n",
    "    \"\"\"Response to user.\"\"\"\n",
    "\n",
    "    response: str\n",
    "\n",
    "\n",
    "class Act(BaseModel):\n",
    "    \"\"\"Action to perform.\"\"\"\n",
    "\n",
    "    action: Union[Response, Plan] = Field(\n",
    "        description=\"Action to perform. If you want to respond to user, use Response. \"\n",
    "        \"If you need to further use tools to get the answer, use Plan.\"\n",
    "    )\n",
    "\n",
    "\n",
    "replanner_prompt = ChatPromptTemplate.from_template(\n",
    "    \"\"\"For the given objective, come up with a simple step by step plan. \\\n",
    "This plan should involve individual tasks, that if executed correctly will yield the correct answer. Do not add any superfluous steps. \\\n",
    "The result of the final step should be the final answer. Make sure that each step has all the information needed - do not skip steps.\n",
    "\n",
    "Your objective was this:\n",
    "{input}\n",
    "\n",
    "Your original plan was this:\n",
    "{plan}\n",
    "\n",
    "You have currently done the follow steps:\n",
    "{past_steps}\n",
    "\n",
    "Update your plan accordingly. If no more steps are needed and you can return to the user, then respond with that. Otherwise, fill out the plan. Only add steps to the plan that still NEED to be done. Do not return previously done steps as part of the plan.\"\"\"\n",
    ")\n",
    "\n",
    "replannerllm = init_chat_model(\n",
    "    \"qwen2.5:7b\",\n",
    "    model_provider=\"ollama\",\n",
    "    temperature=0,\n",
    ")\n",
    "\n",
    "replanner = replanner_prompt | replannerllm.with_structured_output(Act)"
   ]
  },
  {
   "cell_type": "code",
   "execution_count": 15,
   "id": "9af4b109",
   "metadata": {},
   "outputs": [],
   "source": [
    "from typing import Literal\n",
    "from langgraph.graph import END\n",
    "from loguru import logger\n",
    "\n",
    "async def execute_step(state: PlanExecute):\n",
    "    logger.info(f\"execute_step state ==> {state}\")\n",
    "    plan = state[\"plan\"]\n",
    "    plan_str = \"\\n\".join(f\"{i+1}. {step}\" for i, step in enumerate(plan))\n",
    "    logger.info(f\"execute_step plan_str ==> {plan_str}\")\n",
    "\n",
    "    task = plan[0]\n",
    "    task_formatted = f\"\"\"For the following plan:\n",
    "{plan_str}\\n\\nYou are tasked with executing step {1}, {task}.\"\"\"\n",
    "\n",
    "    logger.info(f\"execute_step task_formatted ==> {task_formatted}\")\n",
    "    agent_response = await agent_executor.ainvoke(\n",
    "        {\"messages\": [(\"user\", task_formatted)]}\n",
    "    )\n",
    "    return {\n",
    "        \"past_steps\": [(task, agent_response[\"messages\"][-1].content)],\n",
    "    }\n",
    "\n",
    "\n",
    "async def plan_step(state: PlanExecute):\n",
    "    plan = await planner.ainvoke({\"messages\": [(\"user\", state[\"input\"])]})\n",
    "    return {\"plan\": plan.steps}\n",
    "\n",
    "\n",
    "async def replan_step(state: PlanExecute):\n",
    "    output = await replanner.ainvoke(state)\n",
    "    if isinstance(output.action, Response):\n",
    "        return {\"response\": output.action.response}\n",
    "    else:\n",
    "        return {\"plan\": output.action.steps}\n",
    "\n",
    "\n",
    "def should_end(state: PlanExecute):\n",
    "    if \"response\" in state and state[\"response\"]:\n",
    "        return END\n",
    "    else:\n",
    "        return \"agent\""
   ]
  },
  {
   "cell_type": "code",
   "execution_count": 12,
   "id": "c03cccca",
   "metadata": {},
   "outputs": [],
   "source": [
    "from langgraph.graph import StateGraph, START\n",
    "\n",
    "workflow = StateGraph(PlanExecute)\n",
    "\n",
    "# Add the plan node\n",
    "workflow.add_node(\"planner\", plan_step)\n",
    "\n",
    "# Add the execution step\n",
    "workflow.add_node(\"agent\", execute_step)\n",
    "\n",
    "# Add a replan node\n",
    "workflow.add_node(\"replan\", replan_step)\n",
    "\n",
    "workflow.add_edge(START, \"planner\")\n",
    "\n",
    "# From plan we go to agent\n",
    "workflow.add_edge(\"planner\", \"agent\")\n",
    "\n",
    "# From agent, we replan\n",
    "workflow.add_edge(\"agent\", \"replan\")\n",
    "\n",
    "workflow.add_conditional_edges(\n",
    "    \"replan\",\n",
    "    # Next, we pass in the function that will determine which node is called next.\n",
    "    should_end,\n",
    "    [\"agent\", END],\n",
    ")\n",
    "\n",
    "# Finally, we compile it!\n",
    "# This compiles it into a LangChain Runnable,\n",
    "# meaning you can use it as you would any other runnable\n",
    "app = workflow.compile()"
   ]
  },
  {
   "cell_type": "code",
   "execution_count": 13,
   "id": "7b19a931",
   "metadata": {},
   "outputs": [
    {
     "data": {
      "image/png": "[encoded data removed]",
      "text/plain": [
       "<IPython.core.display.Image object>"
      ]
     },
     "metadata": {},
     "output_type": "display_data"
    }
   ],
   "source": [
    "from IPython.display import Image, display\n",
    "\n",
    "display(Image(app.get_graph(xray=True).draw_mermaid_png()))"
   ]
  },
  {
   "cell_type": "code",
   "execution_count": 16,
   "id": "22e8ac96",
   "metadata": {},
   "outputs": [
    {
     "name": "stderr",
     "output_type": "stream",
     "text": [
      "\u001b[32m2025-06-09 13:58:25.176\u001b[0m | \u001b[34m\u001b[1mDEBUG   \u001b[0m | \u001b[36m__main__\u001b[0m:\u001b[36m<module>\u001b[0m:\u001b[36m6\u001b[0m - \u001b[34m\u001b[1mevent: {'planner': {'plan': [\"Identify the men's singles winner of the 2024 Australian Open tennis tournament.\", \"Research or find information about the player's hometown.\", 'Report the hometown of the identified player.']}}\u001b[0m\n",
      "\u001b[32m2025-06-09 13:58:25.179\u001b[0m | \u001b[1mINFO    \u001b[0m | \u001b[36m__main__\u001b[0m:\u001b[36m<module>\u001b[0m:\u001b[36m9\u001b[0m - \u001b[1mevent value: {'plan': [\"Identify the men's singles winner of the 2024 Australian Open tennis tournament.\", \"Research or find information about the player's hometown.\", 'Report the hometown of the identified player.']}\u001b[0m\n",
      "\u001b[32m2025-06-09 13:59:22.653\u001b[0m | \u001b[34m\u001b[1mDEBUG   \u001b[0m | \u001b[36m__main__\u001b[0m:\u001b[36m<module>\u001b[0m:\u001b[36m6\u001b[0m - \u001b[34m\u001b[1mevent: {'agent': {'past_steps': [(\"Identify the men's singles winner of the 2024 Australian Open tennis tournament.\", \"The men's singles winner of the 2024 Australian Open tennis tournament is Jannik Sinner. According to the information found, Jannik Sinner was born in Innichen, a town in the province of South Tyrol in Northern Italy. He grew up in Sexten, another town in the Dolomites region, where his father worked as a chef and his mother as a waitress at a ski lodge.\\n\\nTherefore, the hometown of the identified player is **Sexten, Dolomites, Italy**.\")]}}\u001b[0m\n",
      "\u001b[32m2025-06-09 13:59:22.658\u001b[0m | \u001b[1mINFO    \u001b[0m | \u001b[36m__main__\u001b[0m:\u001b[36m<module>\u001b[0m:\u001b[36m9\u001b[0m - \u001b[1mevent value: {'past_steps': [(\"Identify the men's singles winner of the 2024 Australian Open tennis tournament.\", \"The men's singles winner of the 2024 Australian Open tennis tournament is Jannik Sinner. According to the information found, Jannik Sinner was born in Innichen, a town in the province of South Tyrol in Northern Italy. He grew up in Sexten, another town in the Dolomites region, where his father worked as a chef and his mother as a waitress at a ski lodge.\\n\\nTherefore, the hometown of the identified player is **Sexten, Dolomites, Italy**.\")]}\u001b[0m\n",
      "\u001b[32m2025-06-09 13:59:36.256\u001b[0m | \u001b[34m\u001b[1mDEBUG   \u001b[0m | \u001b[36m__main__\u001b[0m:\u001b[36m<module>\u001b[0m:\u001b[36m6\u001b[0m - \u001b[34m\u001b[1mevent: {'replan': {'plan': [\"Identify the men's singles winner of the 2024 Australian Open tennis tournament.\", \"Research or find information about the player's hometown.\", 'Report the hometown of the identified player.']}}\u001b[0m\n",
      "\u001b[32m2025-06-09 13:59:36.260\u001b[0m | \u001b[1mINFO    \u001b[0m | \u001b[36m__main__\u001b[0m:\u001b[36m<module>\u001b[0m:\u001b[36m9\u001b[0m - \u001b[1mevent value: {'plan': [\"Identify the men's singles winner of the 2024 Australian Open tennis tournament.\", \"Research or find information about the player's hometown.\", 'Report the hometown of the identified player.']}\u001b[0m\n",
      "\u001b[32m2025-06-09 14:00:37.392\u001b[0m | \u001b[34m\u001b[1mDEBUG   \u001b[0m | \u001b[36m__main__\u001b[0m:\u001b[36m<module>\u001b[0m:\u001b[36m6\u001b[0m - \u001b[34m\u001b[1mevent: {'agent': {'past_steps': [(\"Identify the men's singles winner of the 2024 Australian Open tennis tournament.\", \"The men's singles winner of the 2024 Australian Open tennis tournament is Jannik Sinner. According to the information found, Jannik Sinner was born in Innichen, a town in the province of South Tyrol in Northern Italy. He grew up in Sexten, another town in the Dolomites region, where his father worked as a chef and his mother as a waitress at a ski lodge.\\n\\nTherefore, the hometown of the identified player is **Sexten, Dolomites, Italy**.\")]}}\u001b[0m\n",
      "\u001b[32m2025-06-09 14:00:37.411\u001b[0m | \u001b[1mINFO    \u001b[0m | \u001b[36m__main__\u001b[0m:\u001b[36m<module>\u001b[0m:\u001b[36m9\u001b[0m - \u001b[1mevent value: {'past_steps': [(\"Identify the men's singles winner of the 2024 Australian Open tennis tournament.\", \"The men's singles winner of the 2024 Australian Open tennis tournament is Jannik Sinner. According to the information found, Jannik Sinner was born in Innichen, a town in the province of South Tyrol in Northern Italy. He grew up in Sexten, another town in the Dolomites region, where his father worked as a chef and his mother as a waitress at a ski lodge.\\n\\nTherefore, the hometown of the identified player is **Sexten, Dolomites, Italy**.\")]}\u001b[0m\n",
      "\u001b[32m2025-06-09 14:00:56.371\u001b[0m | \u001b[34m\u001b[1mDEBUG   \u001b[0m | \u001b[36m__main__\u001b[0m:\u001b[36m<module>\u001b[0m:\u001b[36m6\u001b[0m - \u001b[34m\u001b[1mevent: {'replan': {'plan': [\"Identify the men's singles winner of the 2024 Australian Open tennis tournament.\", \"Research or find information about the player's hometown.\", 'Report the hometown of the identified player.']}}\u001b[0m\n",
      "\u001b[32m2025-06-09 14:00:56.377\u001b[0m | \u001b[1mINFO    \u001b[0m | \u001b[36m__main__\u001b[0m:\u001b[36m<module>\u001b[0m:\u001b[36m9\u001b[0m - \u001b[1mevent value: {'plan': [\"Identify the men's singles winner of the 2024 Australian Open tennis tournament.\", \"Research or find information about the player's hometown.\", 'Report the hometown of the identified player.']}\u001b[0m\n",
      "\u001b[32m2025-06-09 14:02:33.208\u001b[0m | \u001b[34m\u001b[1mDEBUG   \u001b[0m | \u001b[36m__main__\u001b[0m:\u001b[36m<module>\u001b[0m:\u001b[36m6\u001b[0m - \u001b[34m\u001b[1mevent: {'agent': {'past_steps': [(\"Identify the men's singles winner of the 2024 Australian Open tennis tournament.\", \"The men's singles winner of the 2024 Australian Open tennis tournament is Jannik Sinner. According to the information found, Jannik Sinner was born in Innichen, a town in the province of South Tyrol in Northern Italy. He grew up in Sexten, another town in the Dolomites region, where his father worked as a chef and his mother as a waitress at a ski lodge.\\n\\nTherefore, the hometown of the identified player is **Sexten, Dolomites, Italy**.\")]}}\u001b[0m\n",
      "\u001b[32m2025-06-09 14:02:33.216\u001b[0m | \u001b[1mINFO    \u001b[0m | \u001b[36m__main__\u001b[0m:\u001b[36m<module>\u001b[0m:\u001b[36m9\u001b[0m - \u001b[1mevent value: {'past_steps': [(\"Identify the men's singles winner of the 2024 Australian Open tennis tournament.\", \"The men's singles winner of the 2024 Australian Open tennis tournament is Jannik Sinner. According to the information found, Jannik Sinner was born in Innichen, a town in the province of South Tyrol in Northern Italy. He grew up in Sexten, another town in the Dolomites region, where his father worked as a chef and his mother as a waitress at a ski lodge.\\n\\nTherefore, the hometown of the identified player is **Sexten, Dolomites, Italy**.\")]}\u001b[0m\n",
      "\u001b[32m2025-06-09 14:03:03.030\u001b[0m | \u001b[34m\u001b[1mDEBUG   \u001b[0m | \u001b[36m__main__\u001b[0m:\u001b[36m<module>\u001b[0m:\u001b[36m6\u001b[0m - \u001b[34m\u001b[1mevent: {'replan': {'plan': [\"Identify the men's singles winner of the 2024 Australian Open tennis tournament.\", \"Research or find information about the player's hometown.\", 'Report the hometown of the identified player.']}}\u001b[0m\n",
      "\u001b[32m2025-06-09 14:03:03.040\u001b[0m | \u001b[1mINFO    \u001b[0m | \u001b[36m__main__\u001b[0m:\u001b[36m<module>\u001b[0m:\u001b[36m9\u001b[0m - \u001b[1mevent value: {'plan': [\"Identify the men's singles winner of the 2024 Australian Open tennis tournament.\", \"Research or find information about the player's hometown.\", 'Report the hometown of the identified player.']}\u001b[0m\n",
      "\u001b[32m2025-06-09 14:04:42.300\u001b[0m | \u001b[34m\u001b[1mDEBUG   \u001b[0m | \u001b[36m__main__\u001b[0m:\u001b[36m<module>\u001b[0m:\u001b[36m6\u001b[0m - \u001b[34m\u001b[1mevent: {'agent': {'past_steps': [(\"Identify the men's singles winner of the 2024 Australian Open tennis tournament.\", \"The men's singles winner of the 2024 Australian Open tennis tournament is Jannik Sinner. According to the information found, Jannik Sinner was born in Innichen, a town in the province of South Tyrol in Northern Italy. He grew up in Sexten, another town in the Dolomites region, where his father worked as a chef and his mother as a waitress at a ski lodge.\\n\\nTherefore, the hometown of the identified player is **Sexten, Dolomites, Italy**.\")]}}\u001b[0m\n",
      "\u001b[32m2025-06-09 14:04:42.308\u001b[0m | \u001b[1mINFO    \u001b[0m | \u001b[36m__main__\u001b[0m:\u001b[36m<module>\u001b[0m:\u001b[36m9\u001b[0m - \u001b[1mevent value: {'past_steps': [(\"Identify the men's singles winner of the 2024 Australian Open tennis tournament.\", \"The men's singles winner of the 2024 Australian Open tennis tournament is Jannik Sinner. According to the information found, Jannik Sinner was born in Innichen, a town in the province of South Tyrol in Northern Italy. He grew up in Sexten, another town in the Dolomites region, where his father worked as a chef and his mother as a waitress at a ski lodge.\\n\\nTherefore, the hometown of the identified player is **Sexten, Dolomites, Italy**.\")]}\u001b[0m\n",
      "\u001b[32m2025-06-09 14:05:14.645\u001b[0m | \u001b[34m\u001b[1mDEBUG   \u001b[0m | \u001b[36m__main__\u001b[0m:\u001b[36m<module>\u001b[0m:\u001b[36m6\u001b[0m - \u001b[34m\u001b[1mevent: {'replan': {'plan': [\"Identify the men's singles winner of the 2024 Australian Open tennis tournament.\", \"Research or find information about the player's hometown.\", 'Report the hometown of the identified player.']}}\u001b[0m\n",
      "\u001b[32m2025-06-09 14:05:14.654\u001b[0m | \u001b[1mINFO    \u001b[0m | \u001b[36m__main__\u001b[0m:\u001b[36m<module>\u001b[0m:\u001b[36m9\u001b[0m - \u001b[1mevent value: {'plan': [\"Identify the men's singles winner of the 2024 Australian Open tennis tournament.\", \"Research or find information about the player's hometown.\", 'Report the hometown of the identified player.']}\u001b[0m\n",
      "\u001b[32m2025-06-09 14:06:41.964\u001b[0m | \u001b[34m\u001b[1mDEBUG   \u001b[0m | \u001b[36m__main__\u001b[0m:\u001b[36m<module>\u001b[0m:\u001b[36m6\u001b[0m - \u001b[34m\u001b[1mevent: {'agent': {'past_steps': [(\"Identify the men's singles winner of the 2024 Australian Open tennis tournament.\", \"The men's singles winner of the 2024 Australian Open tennis tournament is Jannik Sinner. According to the information found, Jannik Sinner was born in Innichen, a town in the province of South Tyrol in Northern Italy. He grew up in Sexten, another town in the Dolomites region, where his father worked as a chef and his mother as a waitress at a ski lodge.\\n\\nTherefore, the hometown of the identified player is **Sexten, Dolomites, Italy**.\")]}}\u001b[0m\n",
      "\u001b[32m2025-06-09 14:06:41.976\u001b[0m | \u001b[1mINFO    \u001b[0m | \u001b[36m__main__\u001b[0m:\u001b[36m<module>\u001b[0m:\u001b[36m9\u001b[0m - \u001b[1mevent value: {'past_steps': [(\"Identify the men's singles winner of the 2024 Australian Open tennis tournament.\", \"The men's singles winner of the 2024 Australian Open tennis tournament is Jannik Sinner. According to the information found, Jannik Sinner was born in Innichen, a town in the province of South Tyrol in Northern Italy. He grew up in Sexten, another town in the Dolomites region, where his father worked as a chef and his mother as a waitress at a ski lodge.\\n\\nTherefore, the hometown of the identified player is **Sexten, Dolomites, Italy**.\")]}\u001b[0m\n"
     ]
    },
    {
     "ename": "GraphRecursionError",
     "evalue": "Recursion limit of 10 reached without hitting a stop condition. You can increase the limit by setting the `recursion_limit` config key.\nFor troubleshooting, visit: https://python.langchain.com/docs/troubleshooting/errors/GRAPH_RECURSION_LIMIT",
     "output_type": "error",
     "traceback": [
      "\u001b[31m---------------------------------------------------------------------------\u001b[39m",
      "\u001b[31mGraphRecursionError\u001b[39m                       Traceback (most recent call last)",
      "\u001b[36mCell\u001b[39m\u001b[36m \u001b[39m\u001b[32mIn[16]\u001b[39m\u001b[32m, line 5\u001b[39m\n\u001b[32m      3\u001b[39m config = {\u001b[33m\"\u001b[39m\u001b[33mrecursion_limit\u001b[39m\u001b[33m\"\u001b[39m: \u001b[32m10\u001b[39m}\n\u001b[32m      4\u001b[39m inputs = {\u001b[33m\"\u001b[39m\u001b[33minput\u001b[39m\u001b[33m\"\u001b[39m: \u001b[33m\"\u001b[39m\u001b[33mwhat is the hometown of the mens 2024 Australia open winner?\u001b[39m\u001b[33m\"\u001b[39m}\n\u001b[32m----> \u001b[39m\u001b[32m5\u001b[39m \u001b[38;5;28;01masync\u001b[39;00m \u001b[38;5;28;01mfor\u001b[39;00m event \u001b[38;5;129;01min\u001b[39;00m app.astream(inputs, config=config):\n\u001b[32m      6\u001b[39m     logger.debug(\u001b[33mf\u001b[39m\u001b[33m\"\u001b[39m\u001b[33mevent: \u001b[39m\u001b[38;5;132;01m{\u001b[39;00mevent\u001b[38;5;132;01m}\u001b[39;00m\u001b[33m\"\u001b[39m)\n\u001b[32m      7\u001b[39m     \u001b[38;5;28;01mfor\u001b[39;00m k, v \u001b[38;5;129;01min\u001b[39;00m event.items():\n",
      "\u001b[36mFile \u001b[39m\u001b[32m~/Desktop/coding-thangs/personal/000-learning/agents-things/python/simple-scripts/.venv/lib/python3.13/site-packages/langgraph/pregel/__init__.py:2852\u001b[39m, in \u001b[36mPregel.astream\u001b[39m\u001b[34m(self, input, config, stream_mode, output_keys, interrupt_before, interrupt_after, checkpoint_during, debug, subgraphs)\u001b[39m\n\u001b[32m   2843\u001b[39m \u001b[38;5;28;01mif\u001b[39;00m loop.status == \u001b[33m\"\u001b[39m\u001b[33mout_of_steps\u001b[39m\u001b[33m\"\u001b[39m:\n\u001b[32m   2844\u001b[39m     msg = create_error_message(\n\u001b[32m   2845\u001b[39m         message=(\n\u001b[32m   2846\u001b[39m             \u001b[33mf\u001b[39m\u001b[33m\"\u001b[39m\u001b[33mRecursion limit of \u001b[39m\u001b[38;5;132;01m{\u001b[39;00mconfig[\u001b[33m'\u001b[39m\u001b[33mrecursion_limit\u001b[39m\u001b[33m'\u001b[39m]\u001b[38;5;132;01m}\u001b[39;00m\u001b[33m reached \u001b[39m\u001b[33m\"\u001b[39m\n\u001b[32m   (...)\u001b[39m\u001b[32m   2850\u001b[39m         error_code=ErrorCode.GRAPH_RECURSION_LIMIT,\n\u001b[32m   2851\u001b[39m     )\n\u001b[32m-> \u001b[39m\u001b[32m2852\u001b[39m     \u001b[38;5;28;01mraise\u001b[39;00m GraphRecursionError(msg)\n\u001b[32m   2853\u001b[39m \u001b[38;5;66;03m# set final channel values as run output\u001b[39;00m\n\u001b[32m   2854\u001b[39m \u001b[38;5;28;01mawait\u001b[39;00m run_manager.on_chain_end(loop.output)\n",
      "\u001b[31mGraphRecursionError\u001b[39m: Recursion limit of 10 reached without hitting a stop condition. You can increase the limit by setting the `recursion_limit` config key.\nFor troubleshooting, visit: https://python.langchain.com/docs/troubleshooting/errors/GRAPH_RECURSION_LIMIT"
     ]
    }
   ],
   "source": [
    "from loguru import logger\n",
    "\n",
    "config = {\"recursion_limit\": 10}\n",
    "inputs = {\"input\": \"what is the hometown of the mens 2024 Australia open winner?\"}\n",
    "async for event in app.astream(inputs, config=config):\n",
    "    logger.debug(f\"event: {event}\")\n",
    "    for k, v in event.items():\n",
    "        if k != \"__end__\":\n",
    "            logger.info(f\"event value: {v}\")"
   ]
  }
 ],
 "metadata": {
  "kernelspec": {
   "display_name": ".venv",
   "language": "python",
   "name": "python3"
  },
  "language_info": {
   "codemirror_mode": {
    "name": "ipython",
    "version": 3
   },
   "file_extension": ".py",
   "mimetype": "text/x-python",
   "name": "python",
   "nbconvert_exporter": "python",
   "pygments_lexer": "ipython3",
   "version": "3.13.3"
  }
 },
 "nbformat": 4,
 "nbformat_minor": 5
}
