{
 "cells": [
  {
   "cell_type": "code",
   "execution_count": 2,
   "id": "aefa3257",
   "metadata": {},
   "outputs": [],
   "source": [
    "from langchain_ollama import ChatOllama\n",
    "from langgraph.graph import StateGraph, END\n",
    "from typing_extensions import TypedDict\n",
    "\n",
    "llm = ChatOllama(model=\"qwen:7b\")"
   ]
  },
  {
   "cell_type": "code",
   "execution_count": 3,
   "id": "54b304ef",
   "metadata": {},
   "outputs": [],
   "source": [
    "# Define the StateGraph State, the return value after the graph invokation is a combination of both \n",
    "# `input` and `output`\n",
    "# {\"input\": \"LangGraph is pretty cool!\", \"output\": \"LangGraph, rad as punk!\"}\n",
    "class State(TypedDict):\n",
    "    input: str\n",
    "    output: str\n",
    "\n",
    "\n",
    "def llm_echo_node(state: State):\n",
    "    user_input = state.get(\"input\", \"\")\n",
    "    print(f\"user_input, {user_input} \\n\")\n",
    "    response = llm.invoke(f\"Echo this back in a punk manner: '{user_input}'\")\n",
    "    return {\"output\": response.content}"
   ]
  },
  {
   "cell_type": "code",
   "execution_count": 4,
   "id": "33f25000",
   "metadata": {},
   "outputs": [],
   "source": [
    "builder = StateGraph(State)\n",
    "# nodes do the work\n",
    "builder.add_node(\"echo_llm\", llm_echo_node) \n",
    "\n",
    "# start at \"echo_llm\" node\n",
    "builder.set_entry_point(\"echo_llm\")\n",
    "\n",
    "# edges define the flow/route.\n",
    "# the graph will start at \"echo_llm\" node and end at the END node.\n",
    "builder.add_edge(\"echo_llm\", END)\n",
    "\n",
    "graph = builder.compile()"
   ]
  },
  {
   "cell_type": "code",
   "execution_count": 5,
   "id": "5eafde86",
   "metadata": {},
   "outputs": [
    {
     "name": "stdout",
     "output_type": "stream",
     "text": [
      "user_input, LangGraph is pretty cool! \n",
      "\n",
      "output: \"LangGraph's kick-ass, dude!Pretty damn cool if you ask me!\"\n"
     ]
    }
   ],
   "source": [
    "if __name__ == \"__main__\":\n",
    "    input_state = {\"input\": \"LangGraph is pretty cool!\"}\n",
    "    results = graph.invoke(input_state)\n",
    "    output = results.get(\"output\")\n",
    "\n",
    "    print(f\"output: {output}\")"
   ]
  }
 ],
 "metadata": {
  "kernelspec": {
   "display_name": ".venv",
   "language": "python",
   "name": "python3"
  },
  "language_info": {
   "codemirror_mode": {
    "name": "ipython",
    "version": 3
   },
   "file_extension": ".py",
   "mimetype": "text/x-python",
   "name": "python",
   "nbconvert_exporter": "python",
   "pygments_lexer": "ipython3",
   "version": "3.13.3"
  }
 },
 "nbformat": 4,
 "nbformat_minor": 5
}
